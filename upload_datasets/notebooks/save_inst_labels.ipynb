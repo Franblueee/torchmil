{
 "cells": [
  {
   "cell_type": "code",
   "execution_count": 19,
   "metadata": {},
   "outputs": [],
   "source": [
    "# import datasets\n",
    "\n",
    "# dataset = datasets.load_dataset('Franblueee/prueba_dataset', 'r50', trust_remote_code=True)"
   ]
  },
  {
   "cell_type": "code",
   "execution_count": null,
   "metadata": {},
   "outputs": [],
   "source": [
    "from datasets import load_dataset\n",
    "\n",
    "dataset = load_dataset('/work/work_fran/torchmil/prueba_dataset',  'r50', trust_remote_code=True)"
   ]
  },
  {
   "cell_type": "code",
   "execution_count": null,
   "metadata": {},
   "outputs": [],
   "source": [
    "import pandas as pd\n",
    "\n",
    "df_train = pd.read_csv('/data/datasets/CAMELYON16/original/train.csv')\n",
    "df_test = pd.read_csv('/data/datasets/CAMELYON16/original/test.csv')\n",
    "\n",
    "df_train['split'] = 'train'\n",
    "df_test['split'] = 'test'\n",
    "\n",
    "df = pd.concat([df_train, df_test])\n",
    "df['bag_name'] = df['wsi_name'].apply(lambda x: x.split('.')[0])\n",
    "df.drop(columns=['wsi_label', 'wsi_name'], inplace=True)\n",
    "# order columns\n",
    "df = df[['bag_name', 'split']]\n",
    "\n",
    "# save\n",
    "\n",
    "df.to_csv('/home/fran/data/datasets/CAMELYON16/patches_512_preset/' + 'splits.csv', index=False)"
   ]
  },
  {
   "cell_type": "code",
   "execution_count": 1,
   "metadata": {},
   "outputs": [],
   "source": [
    "import pandas as pd\n",
    "\n",
    "df = pd.read_csv('/data/datasets/PANDA/PANDA_original/original/wsi_labels.csv')\n",
    "\n",
    "df['bag_name'] = df['image_id']\n",
    "df['split'] = df['Partition']\n",
    "\n",
    "df.drop(columns=['image_id', 'Partition', 'data_provider', 'isup_grade', 'gleason_score'], inplace=True)\n",
    "\n",
    "df.to_csv('/home/fran/data/datasets/PANDA/PANDA_original/patches_512_preset/' + 'splits.csv', index=False)\n",
    "\n",
    "# df"
   ]
  },
  {
   "cell_type": "code",
   "execution_count": 2,
   "metadata": {},
   "outputs": [],
   "source": [
    "import pandas as pd\n",
    "\n",
    "df_train = pd.read_csv('/data/datasets/RSNA_ICH/bags_train.csv')\n",
    "df_test = pd.read_csv('/data/datasets/RSNA_ICH/bags_test.csv')\n",
    "\n",
    "df_train['split'] = 'train'\n",
    "df_test['split'] = 'test'\n",
    "\n",
    "df = pd.concat([df_train, df_test])\n",
    "\n",
    "df.drop(columns=['instance_label', 'instance_name', 'bag_label', 'order'], inplace=True)\n",
    "\n",
    "df.to_csv('/home/fran/data/datasets/RSNA_ICH/' + 'splits.csv', index=False)"
   ]
  },
  {
   "cell_type": "code",
   "execution_count": 6,
   "metadata": {},
   "outputs": [],
   "source": [
    "import pandas as pd\n",
    "import numpy as np\n",
    "\n",
    "df_train = pd.read_csv('/data/datasets/RSNA_ICH/bags_train.csv')\n",
    "df_test = pd.read_csv('/data/datasets/RSNA_ICH/bags_test.csv')\n",
    "\n",
    "df = pd.concat([df_train, df_test])\n",
    "\n",
    "bag_names = df['bag_name'].unique()\n",
    "\n",
    "for bag_name in bag_names:\n",
    "    df_bag = df[df['bag_name'] == bag_name]\n",
    "    label = df_bag['bag_label'].values[0]\n",
    "\n",
    "    np.save('/home/fran/data/datasets/RSNA_ICH/labels/' + bag_name + '.npy', label)\n",
    "\n",
    "    # df_bag.to_csv('/home/fran/data/datasets/RSNA_ICH/instances/' + bag_name + '.csv', index=False)"
   ]
  },
  {
   "cell_type": "code",
   "execution_count": null,
   "metadata": {},
   "outputs": [],
   "source": [
    "import pandas as pd\n",
    "import numpy as np\n",
    "\n",
    "df_train = pd.read_csv('/data/datasets/RSNA_ICH/bags_train.csv')\n",
    "df_test = pd.read_csv('/data/datasets/RSNA_ICH/bags_test.csv')\n",
    "\n",
    "df = pd.concat([df_train, df_test])\n",
    "\n",
    "bag_names = df['bag_name'].unique()\n",
    "\n",
    "for bag_name in bag_names:\n",
    "    print(bag_name)\n",
    "    df_bag = df[df['bag_name'] == bag_name]\n",
    "    df_bag = df_bag.drop_duplicates(subset=['instance_name'])\n",
    "    # order instances by order\n",
    "    df_bag = df_bag.sort_values(by='order')\n",
    "    inst_labels = df_bag['instance_label'].values\n",
    "    inst_labels_array = np.array(inst_labels)\n",
    "\n",
    "    np.save('/home/fran/data/datasets/RSNA_ICH/MIL_processed/slice_labels/' + bag_name + '.npy', inst_labels_array)\n"
   ]
  },
  {
   "cell_type": "code",
   "execution_count": null,
   "metadata": {},
   "outputs": [],
   "source": [
    "import sys\n",
    "sys.path.append('/work/work_fran/torchmil')\n",
    "\n",
    "import datasets as hf_datasets\n",
    "\n",
    "ds = hf_datasets.load_dataset('/work/work_fran/torchmil/torchmil/datasets/camelyon16_hf.py', 'UNI', trust_remote_code=True, split='train')\n"
   ]
  }
 ],
 "metadata": {
  "kernelspec": {
   "display_name": "torchmil",
   "language": "python",
   "name": "python3"
  },
  "language_info": {
   "codemirror_mode": {
    "name": "ipython",
    "version": 3
   },
   "file_extension": ".py",
   "mimetype": "text/x-python",
   "name": "python",
   "nbconvert_exporter": "python",
   "pygments_lexer": "ipython3",
   "version": "3.9.21"
  }
 },
 "nbformat": 4,
 "nbformat_minor": 2
}
