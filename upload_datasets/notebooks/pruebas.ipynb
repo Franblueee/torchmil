{
 "cells": [
  {
   "cell_type": "code",
   "execution_count": null,
   "metadata": {},
   "outputs": [],
   "source": [
    "# import numpy as np\n",
    "# import os\n",
    "\n",
    "# import h5py\n",
    "\n",
    "# # dir_path = '/home/fran/data/datasets/CAMELYON16/patches_512_preset/coords'\n",
    "# dir_path = '/home/fran/data/datasets/PANDA/PANDA_original/patches_512_preset/coords'\n",
    "\n",
    "# files_list = os.listdir(dir_path)\n",
    "# files_list = [file for file in files_list if file.endswith('.h5')]\n",
    "\n",
    "# for file in files_list:\n",
    "#     bag_name = file.split('.')[0]\n",
    "#     coords_path = os.path.join(dir_path, bag_name + '.h5')\n",
    "#     coords = np.array(h5py.File(coords_path, 'r')['coords'])\n",
    "\n",
    "#     np.save(os.path.join(dir_path, bag_name + '.npy'), coords)\n",
    "\n",
    "#     print(bag_name, coords.shape)\n",
    "\n",
    "#     # break"
   ]
  },
  {
   "cell_type": "code",
   "execution_count": null,
   "metadata": {},
   "outputs": [],
   "source": [
    "# import numpy as np\n",
    "# import os\n",
    "\n",
    "# import pandas as pd\n",
    "\n",
    "# df = pd.read_csv('/data/datasets/CAMELYON16/original/wsi_labels.csv')\n",
    "\n",
    "# save_path = '/home/fran/data/datasets/CAMELYON16/patches_512_preset/labels/'\n",
    "\n",
    "# for i, row in df.iterrows():\n",
    "#     bag_name = row['wsi_name']\n",
    "#     bag_name = bag_name.split('.')[0]\n",
    "#     label = row['wsi_label']\n",
    "\n",
    "#     np.save(os.path.join(save_path, bag_name + '.npy'), np.array([label]))\n",
    "\n",
    "#     print(bag_name, label)\n",
    "\n",
    "#     # break\n"
   ]
  },
  {
   "cell_type": "code",
   "execution_count": null,
   "metadata": {},
   "outputs": [],
   "source": [
    "import numpy as np\n",
    "import os\n",
    "\n",
    "import pandas as pd\n",
    "\n",
    "df = pd.read_csv('/data/datasets/PANDA/PANDA_original/original/wsi_labels.csv')\n",
    "\n",
    "save_path = '/home/fran/data/datasets/PANDA/PANDA_original/patches_512_preset/labels/'\n",
    "\n",
    "for i, row in df.iterrows():\n",
    "\n",
    "    bag_name = row['image_id']\n",
    "    isup_grade = int(row['isup_grade'])\n",
    "    label = 0 if isup_grade == 0 else 1\n",
    "\n",
    "    np.save(os.path.join(save_path, bag_name + '.npy'), np.array([label]))\n",
    "\n",
    "    print(bag_name, isup_grade, label)\n",
    "\n",
    "    # break"
   ]
  },
  {
   "cell_type": "code",
   "execution_count": null,
   "metadata": {},
   "outputs": [],
   "source": [
    "import torch\n",
    "\n",
    "batch_size = 4\n",
    "bag_size = 10\n",
    "k = 5\n",
    "emb = torch.rand(batch_size, bag_size, 512)\n",
    "att = torch.rand(batch_size, bag_size)\n",
    "\n"
   ]
  },
  {
   "cell_type": "code",
   "execution_count": null,
   "metadata": {},
   "outputs": [],
   "source": [
    "idx = torch.topk(att, k, dim=1)[1]\n",
    "torch.index_select(emb, 1, idx)"
   ]
  },
  {
   "cell_type": "code",
   "execution_count": null,
   "metadata": {},
   "outputs": [],
   "source": [
    "import pandas as pd\n",
    "\n",
    "df = pd.read_csv('/data/datasets/RSNA_ICH/bags_train.csv')\n",
    "df"
   ]
  },
  {
   "cell_type": "code",
   "execution_count": 10,
   "metadata": {},
   "outputs": [],
   "source": [
    "import numpy as np\n",
    "bag_names = df['bag_name'].unique()\n",
    "ds_dict = {}\n",
    "for bag_name in bag_names:\n",
    "    bag_df = df[df.bag_name==bag_name].sort_values(by=['order'])\n",
    "    num_inst = len(bag_df)\n",
    "    inst_labels = []\n",
    "    for i in range(num_inst):\n",
    "        inst_labels.append(list(bag_df.instance_label)[i])\n",
    "\n",
    "    inst_labels = np.array(inst_labels)\n",
    "\n",
    "    np.save('/home/fran/data/datasets/RSNA_ICH/slice_labels/' + bag_name + '.npy', inst_labels)\n"
   ]
  },
  {
   "cell_type": "code",
   "execution_count": null,
   "metadata": {},
   "outputs": [],
   "source": [
    "import os\n",
    "import pandas as pd\n",
    "\n",
    "full_list = os.listdir('/home/fran/data/datasets/PANDA/PANDA_original/patches_512_preset/coords/')\n",
    "\n",
    "existing_list = os.listdir('/home/fran/data/datasets/PANDA/PANDA_original/patches_512_preset/patch_labels/')\n",
    "\n",
    "df = pd.read_csv('/data/datasets/PANDA/PANDA_original/original/wsi_labels.csv')\n",
    "\n",
    "for file in full_list:\n",
    "    if file not in existing_list:\n",
    "        row = df[df.image_id == file.split('.')[0]]\n",
    "        print(row['Partition'].values[0], row['isup_grade'].values[0])"
   ]
  }
 ],
 "metadata": {
  "kernelspec": {
   "display_name": "torchmil",
   "language": "python",
   "name": "python3"
  },
  "language_info": {
   "codemirror_mode": {
    "name": "ipython",
    "version": 3
   },
   "file_extension": ".py",
   "mimetype": "text/x-python",
   "name": "python",
   "nbconvert_exporter": "python",
   "pygments_lexer": "ipython3",
   "version": "3.9.21"
  }
 },
 "nbformat": 4,
 "nbformat_minor": 2
}
