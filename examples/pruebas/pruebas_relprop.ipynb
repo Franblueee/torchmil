{
 "cells": [
  {
   "cell_type": "code",
   "execution_count": 1,
   "metadata": {},
   "outputs": [],
   "source": [
    "import os\n",
    "os.environ[\"CUDA_VISIBLE_DEVICES\"] = \"5\""
   ]
  },
  {
   "cell_type": "code",
   "execution_count": 2,
   "metadata": {},
   "outputs": [
    {
     "data": {
      "text/plain": [
       "torch.Size([4, 10, 100])"
      ]
     },
     "execution_count": 2,
     "metadata": {},
     "output_type": "execute_result"
    }
   ],
   "source": [
    "import torch\n",
    "\n",
    "from torchmil.nn.relprop import RelPropMultiheadSelfAttention\n",
    "\n",
    "layer = RelPropMultiheadSelfAttention(in_dim=100, out_dim=100, att_dim=100)\n",
    "\n",
    "x = torch.randn(4, 10, 100)\n",
    "\n",
    "y = layer(x)\n",
    "\n",
    "r = layer.relprop(y)\n",
    "\n",
    "r.shape\n",
    "\n"
   ]
  },
  {
   "cell_type": "code",
   "execution_count": 3,
   "metadata": {},
   "outputs": [],
   "source": [
    "import torch\n",
    "\n",
    "from torchmil.nn.relprop import RelPropTransformerEncoder\n",
    "\n",
    "layer = RelPropTransformerEncoder(in_dim=100, out_dim=100, att_dim=100)\n",
    "\n",
    "x = torch.randn(4, 10, 100)\n",
    "\n",
    "y = layer(x)\n",
    "\n",
    "r = layer.relprop(y)\n"
   ]
  }
 ],
 "metadata": {
  "kernelspec": {
   "display_name": "torchmil",
   "language": "python",
   "name": "python3"
  },
  "language_info": {
   "codemirror_mode": {
    "name": "ipython",
    "version": 3
   },
   "file_extension": ".py",
   "mimetype": "text/x-python",
   "name": "python",
   "nbconvert_exporter": "python",
   "pygments_lexer": "ipython3",
   "version": "3.9.21"
  }
 },
 "nbformat": 4,
 "nbformat_minor": 2
}
