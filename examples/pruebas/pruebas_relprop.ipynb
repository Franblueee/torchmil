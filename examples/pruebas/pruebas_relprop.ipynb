{
 "cells": [
  {
   "cell_type": "code",
   "execution_count": 1,
   "metadata": {},
   "outputs": [],
   "source": [
    "import os\n",
    "os.environ[\"CUDA_VISIBLE_DEVICES\"] = \"5\""
   ]
  },
  {
   "cell_type": "code",
   "execution_count": null,
   "metadata": {},
   "outputs": [],
   "source": [
    "import torch\n",
    "\n",
    "from torchmil.nn.relprop import RelPropMultiheadSelfAttention\n",
    "\n",
    "layer = RelPropMultiheadSelfAttention(in_dim=100, out_dim=100, att_dim=100)\n",
    "\n",
    "x = torch.randn(4, 10, 100)\n",
    "\n",
    "y = layer(x)\n",
    "\n",
    "r = layer.relprop(y)\n",
    "\n",
    "r.shape\n",
    "\n"
   ]
  },
  {
   "cell_type": "code",
   "execution_count": 3,
   "metadata": {},
   "outputs": [],
   "source": [
    "import torch\n",
    "\n",
    "from torchmil.nn.relprop import RelPropTransformerEncoder\n",
    "\n",
    "layer = RelPropTransformerEncoder(in_dim=100, out_dim=100, att_dim=100)\n",
    "\n",
    "x = torch.randn(4, 10, 100)\n",
    "\n",
    "y = layer(x)\n",
    "\n",
    "r = layer.relprop(y)\n"
   ]
  },
  {
   "cell_type": "code",
   "execution_count": null,
   "metadata": {},
   "outputs": [],
   "source": [
    "import torch\n",
    "\n",
    "from torchmil.nn.relprop import RelPropLinear\n",
    "\n",
    "layer = RelPropLinear(100, 1)\n",
    "\n",
    "x = torch.randn(4, 100)\n",
    "\n",
    "y = layer(x)\n",
    "\n",
    "print(y.shape)\n",
    "\n",
    "r = layer.relprop(y)"
   ]
  },
  {
   "cell_type": "code",
   "execution_count": 5,
   "metadata": {},
   "outputs": [],
   "source": [
    "import torch\n",
    "from torchmil.models import GTP\n",
    "\n",
    "model = GTP(in_shape=(512,))\n",
    "\n",
    "x = torch.randn(4, 10, 512)\n",
    "adj = torch.randn(4, 10, 10)\n",
    "\n",
    "y = model(x, adj, return_cam=True)"
   ]
  },
  {
   "cell_type": "code",
   "execution_count": null,
   "metadata": {},
   "outputs": [],
   "source": [
    "import torch\n",
    "\n",
    "att_rel_list = [ torch.randn(4, 10, 10) for _ in range(3) ]\n",
    "\n",
    "torch.stack(att_rel_list, dim=0).shape"
   ]
  }
 ],
 "metadata": {
  "kernelspec": {
   "display_name": "torchmil",
   "language": "python",
   "name": "python3"
  },
  "language_info": {
   "codemirror_mode": {
    "name": "ipython",
    "version": 3
   },
   "file_extension": ".py",
   "mimetype": "text/x-python",
   "name": "python",
   "nbconvert_exporter": "python",
   "pygments_lexer": "ipython3",
   "version": "3.9.21"
  }
 },
 "nbformat": 4,
 "nbformat_minor": 2
}
