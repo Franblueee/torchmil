{
 "cells": [
  {
   "cell_type": "code",
   "execution_count": 1,
   "metadata": {},
   "outputs": [],
   "source": [
    "import torch\n",
    "\n",
    "from torchmil.datasets import WSIDataset, CTScanDataset"
   ]
  },
  {
   "cell_type": "code",
   "execution_count": 2,
   "metadata": {},
   "outputs": [],
   "source": [
    "import os\n",
    "\n",
    "BASE_DIR = '/home/fran/data/datasets/CAMELYON16/patches_512_preset'\n",
    "\n",
    "class Camelyon16(WSIDataset):\n",
    "    def __init__(self):\n",
    "\n",
    "        super(Camelyon16, self).__init__(\n",
    "            features_path=os.path.join(BASE_DIR, 'features/features_UNI'),\n",
    "            labels_path=os.path.join(BASE_DIR, 'labels'),\n",
    "            inst_labels_path=os.path.join(BASE_DIR, 'patch_labels'),\n",
    "            coords_path=os.path.join(BASE_DIR, 'coords'),\n",
    "            patch_size=512\n",
    "        )"
   ]
  },
  {
   "cell_type": "code",
   "execution_count": 3,
   "metadata": {},
   "outputs": [],
   "source": [
    "dataset = Camelyon16()\n",
    "\n",
    "dataset[0]"
   ]
  },
  {
   "cell_type": "code",
   "execution_count": null,
   "metadata": {},
   "outputs": [],
   "source": [
    "from torchmil.data import collate_fn\n",
    "\n",
    "import time\n",
    "\n",
    "dataloader = torch.utils.data.DataLoader(dataset, batch_size=4, shuffle=False, collate_fn=collate_fn)\n",
    "\n",
    "start = time.time()\n",
    "i = 0\n",
    "for batch in dataloader:\n",
    "    i += 1\n",
    "    if i == 10:\n",
    "        break\n",
    "\n",
    "end = time.time()\n",
    "\n",
    "print(end - start)"
   ]
  }
 ],
 "metadata": {
  "kernelspec": {
   "display_name": "torchmil",
   "language": "python",
   "name": "python3"
  },
  "language_info": {
   "codemirror_mode": {
    "name": "ipython",
    "version": 3
   },
   "file_extension": ".py",
   "mimetype": "text/x-python",
   "name": "python",
   "nbconvert_exporter": "python",
   "pygments_lexer": "ipython3",
   "version": "3.9.21"
  }
 },
 "nbformat": 4,
 "nbformat_minor": 2
}
