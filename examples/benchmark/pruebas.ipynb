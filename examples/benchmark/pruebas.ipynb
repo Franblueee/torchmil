{
 "cells": [
  {
   "cell_type": "code",
   "execution_count": 2,
   "metadata": {},
   "outputs": [],
   "source": [
    "import torch\n",
    "import torchvision\n",
    "\n",
    "from torchmil.datasets import ToyDataset\n",
    "\n",
    "mnist_dataset = torchvision.datasets.MNIST(root='~/.cache/', train=True, download=False, transform=None)\n",
    "data = mnist_dataset.data.numpy().astype(float) / 255.0\n",
    "targets = mnist_dataset.targets.numpy()\n",
    "\n",
    "# perform PCA\n",
    "\n",
    "from sklearn.decomposition import PCA\n",
    "\n",
    "pca = PCA(n_components=100)\n",
    "data = data.reshape(data.shape[0], -1)\n",
    "data = pca.fit_transform(data)"
   ]
  },
  {
   "cell_type": "code",
   "execution_count": null,
   "metadata": {},
   "outputs": [],
   "source": [
    "from torchmil.data import collate_fn\n",
    "\n",
    "dataset = ToyDataset(data, targets, 2000, [0,1], 10)\n",
    "\n",
    "dataloader = torch.utils.data.DataLoader(dataset, batch_size=10, shuffle=True, num_workers=0, collate_fn=collate_fn)"
   ]
  },
  {
   "cell_type": "code",
   "execution_count": 4,
   "metadata": {},
   "outputs": [],
   "source": [
    "from torchmil.models import ABMIL\n",
    "\n",
    "model = ABMIL((100,))\n",
    "\n",
    "optimizer = torch.optim.Adam(model.parameters(), lr=0.001)"
   ]
  },
  {
   "cell_type": "code",
   "execution_count": 5,
   "metadata": {},
   "outputs": [],
   "source": [
    "def _get_args_names(fn):\n",
    "    args_names = fn.__code__.co_varnames[:fn.__code__.co_argcount]\n",
    "    args_names = args_names[1:] # remove self\n",
    "    return args_names\n",
    "\n",
    "\n",
    "class ModelWrapper(torch.nn.Module):\n",
    "    def __init__(self, model):\n",
    "        super().__init__()\n",
    "        self.model = model\n",
    "\n",
    "    def forward(self, **kwargs):\n",
    "        args_names = _get_args_names(self.model.compute_loss)\n",
    "        args_dict = { name: kwargs[name] for name in args_names }\n",
    "        return self.model.compute_loss(**args_dict)\n",
    "\n",
    "    def compute_loss(self, **kwargs):\n",
    "        args_names = _get_args_names(self.model.compute_loss)\n",
    "        args_dict = { name: kwargs[name] for name in args_names }\n",
    "        return self.model.compute_loss(**args_dict)\n",
    "\n",
    "model = ModelWrapper(model)"
   ]
  },
  {
   "cell_type": "code",
   "execution_count": 6,
   "metadata": {},
   "outputs": [],
   "source": [
    "from Trainer import Trainer\n",
    "\n",
    "trainer = Trainer(model, optimizer)"
   ]
  },
  {
   "cell_type": "code",
   "execution_count": null,
   "metadata": {},
   "outputs": [],
   "source": [
    "trainer.train(50, dataloader)"
   ]
  },
  {
   "cell_type": "code",
   "execution_count": 1,
   "metadata": {},
   "outputs": [],
   "source": [
    "from argparse import Namespace\n",
    "\n",
    "config = Namespace()\n",
    "config.dataset_name = 'rsna-features_resnet50'\n",
    "config.val_prop = 0.1\n",
    "config.seed = 1\n",
    "\n",
    "from utils.datasets import load_dataset\n",
    "\n",
    "test_dataset = load_dataset(config, mode='test')"
   ]
  },
  {
   "cell_type": "code",
   "execution_count": null,
   "metadata": {},
   "outputs": [],
   "source": [
    "count_missing = 0\n",
    "count_neg = 0\n",
    "for i in range(len(test_dataset)):\n",
    "    y_inst = test_dataset[i]['y_inst']\n",
    "    if sum(y_inst) < 0:\n",
    "        count_missing += 1\n",
    "    if sum(y_inst) == 0:\n",
    "        count_neg += 1\n",
    "\n",
    "print(count_missing)\n",
    "print(count_neg)\n",
    "print(len(test_dataset))"
   ]
  },
  {
   "cell_type": "code",
   "execution_count": 1,
   "metadata": {},
   "outputs": [],
   "source": [
    "from argparse import Namespace\n",
    "\n",
    "config = Namespace()\n",
    "config.dataset_name = 'camelyon16-patches_512_preset-features_UNI'\n",
    "config.val_prop = 0.1\n",
    "config.seed = 1\n",
    "\n",
    "from utils.datasets import load_dataset\n",
    "\n",
    "train_dataset, val_dataset = load_dataset(config, mode='train_val')"
   ]
  }
 ],
 "metadata": {
  "kernelspec": {
   "display_name": "torchmil",
   "language": "python",
   "name": "python3"
  },
  "language_info": {
   "codemirror_mode": {
    "name": "ipython",
    "version": 3
   },
   "file_extension": ".py",
   "mimetype": "text/x-python",
   "name": "python",
   "nbconvert_exporter": "python",
   "pygments_lexer": "ipython3",
   "version": "3.9.21"
  }
 },
 "nbformat": 4,
 "nbformat_minor": 2
}
