{
 "cells": [
  {
   "cell_type": "markdown",
   "metadata": {},
   "source": [
    "# Datasets\n",
    "\n",
    "When implementing a MIL model, the first step is to define a `MILDataset` to apply the model. In this tutorial, we will show how MIL datasets are implemented in <tt>torchmil</tt>.\n",
    "\n",
    "## Required data and hard drive organization\n",
    "\n",
    "In a <tt>torchmil</tt> dataset, each bag is composed of four elements:\n",
    "\n",
    "- `features`: with shape `(bag_size, feature_dim)` with the features of the bag. Usually, the `features` will be the result of applying a feature extractor to the patches of the slide.\n",
    "- `label`: with shape `()`, containing the bag label.\n",
    "- `patch_labels`: with shape `(bag_size, )`, containing the label of the instance.\n",
    "- `coords`: with shape `(bag_size, coords_dim)`, containing the coordinates of each of the patches in the bag. \n",
    "\n",
    "!!! note \"Not everything is required\"\n",
    "    Even though the implementation manages `features, labels, patch_labels` and `coords`, they are not strictly required to build a dataset. For instance, if the `patch_labels`, the dataset can still be used with the rest of the elements.\n",
    "    \n",
    "\n",
    "The first step is to organize the files in our system in a way that is compatible with the implementation of the `ProcessedMILDataset`, which is the base class used to implement new datasets. One folder is required for each of the required elements. Assuming that the patches have the size `patch_size` and that the features were extracted using `feature_extractor`, the following folder structure is required:\n",
    "```\n",
    "{dataset_name}\n",
    "├── patches_{patch_size}\n",
    "│   ├── features\n",
    "│   │   ├── features_{feature_extractor}\n",
    "│   │   │   ├── bag1.npy\n",
    "│   │   │   ├── bag2.npy\n",
    "│   │   │   └── ...\n",
    "│   ├── labels\n",
    "│   │   ├── bag1.npy\n",
    "│   │   ├── bag2.npy\n",
    "│   │   └── ...\n",
    "│   ├── patch_labels\n",
    "│   │   ├── bag1.npy\n",
    "│   │   ├── bag2.npy\n",
    "│   │   └── ...\n",
    "│   ├── coords\n",
    "│   │   ├── bag1.npy\n",
    "│   │   ├── bag2.npy\n",
    "│   │   └── ...\n",
    "```\n",
    "\n",
    "!!! important\n",
    "    As the folder structure shows, there must exist one folder for each required type of element (`features, labels, patch_labels, coords`), and one `.npy` file per element. Each `.npy` file must be named as the bag that it represents. \n",
    "\n",
    "## The `ProcessedMILDataset` class\n",
    "\n",
    "The `ProcessedMILDataset` class manages the bag loading and adjacency matrix building (if `coords` are available). To initialize this class only 2 parameters are required: `features_path` and `labels_path`, indicating the path to the respective folders. However, using also `inst_labels_path`, `coords_path` (both indicating paths), and `bag_names` (containing a list of all the bag names in the dataset) is recommended. Another important parameter is `bag_keys`, which indicates which elements the `__get_item__` function will return, defaulting to all the options: `[\"X\", \"Y\", \"y_inst\", \"adj\", \"coords\"]`.\n",
    "\n",
    "!!! note \"First time loading the data in an execution\"\n",
    "    The `ProcessedMILDataset` class has an extra parameter `load_at_init` which defaults to `True`. With this option, the data is loaded to cache when the dataset is instantiated. Changing this parameter to `load_at_init=False` implies that the data is not read until it is required by the `__get_item__` function.\n",
    "\n",
    "The adjacency matrix `adj` of each bag is created when each bag is built (i.e., when it is loaded for the first time). Some options can be passed to obtain different versions of `adj`. Feel free to see the options in the documentation of [<tt><b>torchmil.datasets.processed_mil_dataset</b></tt>](../api/datasets/processed_mil_dataset.md).\n",
    "\n",
    "### Extending `ProcessedMILDataset` funcionalities.\n",
    "\n",
    "As an additional feature, <tt>torchmil</tt> implements `BinaryClassificationDataset`, a subclass of `ProcessedMILDataset`. This subclass assumes that\n",
    "\n",
    "$$\n",
    "\\begin{gather}\n",
    "        Y \\in \\left\\{ 0, 1 \\right\\}, \\quad y_n \\in \\left\\{ 0, 1 \\right\\}, \\quad \\forall n \\in \\left\\{ 1, \\ldots, N \\right\\},\\\\\n",
    "        Y = \\max \\left\\{ y_1, \\ldots, y_N \\right\\}.\n",
    "\\end{gather}\n",
    "$$\n",
    "\n",
    "The functionality of this class extends `ProcessedMILDataset` by adding explicit comprobations to ensure that the conditions in equations are fullfilled. If they are not, a warning is shown on the output stream. Check all the information about this class in [<tt><b>torchmil.datasets.binary_classification_dataset</b></tt>](../api/datasets/binary_classification_dataset.md).\n",
    "\n",
    "\n",
    "Also, the class `WSIDataset` assumes that the bags are Whole Slide Images (WSIs), and it gives the coordinates of the patches (`coords`) a special treatment, normalizing their values. Find more information about this class in [<tt><b>torchmil.datasets.wsi_dataset</b></tt>](../api/datasets/wsi_dataset.md).\n",
    "\n",
    "\n",
    "## Creating your own dataset\n",
    "\n",
    "With the provided explanation, we are now ready to define a custom class to use <tt>torchmil</tt> in your own dataset. We will implement a WSI dataset using slides from the [Genotype-Tissue Expression (GTEx) Project](https://www.gtexportal.org/home/), which can be downloaded for free. Particularly, we will use slides of <tt>UrinaryBladder</tt> tissue. \n",
    "\n",
    "To create the dataset, we must first extract the `coords` of the patches from the original <tt>.tiff</tt> files and then extract `features` from those patches. To achieve that, a tool like [CLAM](https://github.com/mahmoodlab/CLAM) can be used. We will assume that no masks are provided, so we will not have access to `labels` or `inst_labels`. We have extracted the features using the foundation model [UNI](https://huggingface.co/MahmoodLab/UNI).\n",
    "\n",
    "Then, creating the dataset is as simple as defining a new class that extends `WSIDataset` and properly \n"
   ]
  },
  {
   "cell_type": "code",
   "execution_count": 1,
   "metadata": {},
   "outputs": [],
   "source": [
    "import numpy as np\n",
    "from torchmil.datasets import WSIDataset\n",
    "from torchmil.utils.common import read_csv, keep_only_existing_files\n",
    "\n",
    "\n",
    "class GTExUrinaryBladderDataset(WSIDataset):\n",
    "    r\"\"\"\n",
    "\n",
    "    GTEx Urinary Bladder dataset.\n",
    "    This dataset is an example of dataset with no labels.\n",
    "\n",
    "\n",
    "    \"\"\"\n",
    "    def __init__(\n",
    "        self,\n",
    "        root : str,\n",
    "        features : str = 'UNI',\n",
    "        bag_keys: list = [\"X\", \"adj\", \"coords\"],\n",
    "        patch_size: int = 512,\n",
    "        adj_with_dist: bool = False,\n",
    "        norm_adj: bool = True,\n",
    "        load_at_init: bool = True\n",
    "    ) -> None:\n",
    "        \"\"\"\n",
    "        Arguments:\n",
    "            root: Path to the root directory of the dataset.\n",
    "            features: Type of features to use. Must be one of ['UNI'].\n",
    "            partition: Partition of the dataset. Must be one of ['train', 'test'].\n",
    "            bag_keys: List of keys to use for the bags. Must be in ['X', 'Y', 'y_inst', 'coords'].\n",
    "            patch_size: Size of the patches. Currently, only 512 is supported.\n",
    "            adj_with_dist: If True, the adjacency matrix is built using the Euclidean distance between the patches features. If False, the adjacency matrix is binary.\n",
    "            norm_adj: If True, normalize the adjacency matrix.\n",
    "            load_at_init: If True, load the bags at initialization. If False, load the bags on demand.\n",
    "        \"\"\"\n",
    "\n",
    "        features_path = f'{root}/patches_{patch_size}/features/features_{features}/'\n",
    "        labels_path = f'{root}/patches_{patch_size}/labels/'\n",
    "        patch_labels_path = f'{root}/patches_{patch_size}/inst_labels/'\n",
    "        coords_path = f'{root}/patches_{patch_size}/coords/'\n",
    "\n",
    "        # This csv is generated by CLAM, with slide_id containing \"bag_name.format\"\n",
    "        bag_names_file = f'{root}/patches_{patch_size}/process_list_autogen.csv'\n",
    "        dict_list = read_csv(bag_names_file)\n",
    "        wsi_names = list(set([ row['slide_id'].split('.')[0] for row in dict_list]))\n",
    "        wsi_names = keep_only_existing_files(features_path, wsi_names)\n",
    "\n",
    "        WSIDataset.__init__(\n",
    "            self,\n",
    "            features_path=features_path,\n",
    "            labels_path=labels_path,\n",
    "            patch_labels_path=patch_labels_path,\n",
    "            coords_path=coords_path,\n",
    "            wsi_names=wsi_names,\n",
    "            bag_keys=bag_keys,\n",
    "            patch_size=patch_size,\n",
    "            adj_with_dist=adj_with_dist,\n",
    "            norm_adj=norm_adj,\n",
    "            load_at_init=load_at_init\n",
    "        )\n"
   ]
  },
  {
   "cell_type": "markdown",
   "metadata": {},
   "source": [
    "We have now defined our new `GTExUrinaryBladderDataset` class. We can now instantiate it, using as `bag_keys` only the features `X` and the adjacency matrix `adj`.  We only have to specify the root path! We will use `load_at_init = False` so that the features of the slides are only loaded when needed."
   ]
  },
  {
   "cell_type": "code",
   "execution_count": 2,
   "metadata": {},
   "outputs": [
    {
     "name": "stdout",
     "output_type": "stream",
     "text": [
      "['GTEX-N7MS-2125', 'GTEX-N7MT-1825', 'GTEX-NFK9-2125']\n"
     ]
    }
   ],
   "source": [
    "# This is my root, change it to your own!\n",
    "root = '/data/data_fjaviersaezm/GTExTorchmil/UrinaryBladder/'\n",
    "dataset = GTExUrinaryBladderDataset(root = root, features='UNI', bag_keys=['X', 'adj'], patch_size=512, load_at_init=False)\n",
    "print(dataset.bag_names[:3])"
   ]
  },
  {
   "cell_type": "markdown",
   "metadata": {},
   "source": [
    "Great! The dataset object initialized without problems. Now we can display a bag, which is returned as a `dict`."
   ]
  },
  {
   "cell_type": "code",
   "execution_count": 3,
   "metadata": {},
   "outputs": [
    {
     "name": "stdout",
     "output_type": "stream",
     "text": [
      "Loading bag GTEX-N7MS-2125...\n",
      "_StringKeys(dict_keys(['X', 'adj']))\n",
      "torch.Size([825, 1024])\n",
      "torch.Size([825, 825])\n"
     ]
    }
   ],
   "source": [
    "el = dataset[0]\n",
    "print(el.keys())\n",
    "print(el['X'].shape)\n",
    "print(el['adj'].shape)"
   ]
  },
  {
   "cell_type": "markdown",
   "metadata": {},
   "source": [
    "Nice! The dataset has correctly loaded the `feature` tensor and has built the adjacency matrix `adj`. We can already use this bag as input for a MIL model!\n",
    "\n",
    "Building a new dataset for <tt>torchmil</tt> was super easy!"
   ]
  }
 ],
 "metadata": {
  "kernelspec": {
   "display_name": "torchmil",
   "language": "python",
   "name": "python3"
  },
  "language_info": {
   "codemirror_mode": {
    "name": "ipython",
    "version": 3
   },
   "file_extension": ".py",
   "mimetype": "text/x-python",
   "name": "python",
   "nbconvert_exporter": "python",
   "pygments_lexer": "ipython3",
   "version": "3.13.2"
  }
 },
 "nbformat": 4,
 "nbformat_minor": 2
}
